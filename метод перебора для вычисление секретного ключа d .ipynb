{
 "cells": [
  {
   "cell_type": "code",
   "execution_count": 24,
   "metadata": {},
   "outputs": [
    {
     "name": "stdout",
     "output_type": "stream",
     "text": [
      " d    |  d*e  |  d*e*mod(phi(N))\n",
      "--------------------------------\n",
      "0     | 0     | 0     \n",
      "1     | 17    | 17    \n",
      "2     | 34    | 34    \n",
      "3     | 51    | 10    \n",
      "4     | 68    | 27    \n",
      "5     | 85    | 3     \n",
      "6     | 102   | 20    \n",
      "7     | 119   | 37    \n",
      "8     | 136   | 13    \n",
      "9     | 153   | 30    \n",
      "10    | 170   | 6     \n",
      "11    | 187   | 23    \n",
      "12    | 204   | 40    \n",
      "13    | 221   | 16    \n",
      "14    | 238   | 33    \n",
      "15    | 255   | 9     \n",
      "16    | 272   | 26    \n",
      "17    | 289   | 2     \n",
      "18    | 306   | 19    \n",
      "19    | 323   | 36    \n",
      "20    | 340   | 12    \n",
      "21    | 357   | 29    \n",
      "22    | 374   | 5     \n",
      "23    | 391   | 22    \n",
      "24    | 408   | 39    \n",
      "25    | 425   | 15    \n",
      "26    | 442   | 32    \n",
      "27    | 459   | 8     \n",
      "28    | 476   | 25    \n",
      "29    | 493   | 1     \n"
     ]
    }
   ],
   "source": [
    "# d * e = 1 * mod(phi(N))\n",
    "N = 41 \n",
    "e = 17\n",
    "ed = [i*e for i in range(30)]\n",
    "m = []\n",
    "for i in range(30):\n",
    "    modulo = ed[i] % N\n",
    "    m.append(modulo)\n",
    "    if modulo == 1:\n",
    "        break\n",
    "\n",
    "print(' d    |  d*e  |  d*e*mod(phi(N))')\n",
    "print('--------------------------------')\n",
    "for i in range(len(m)):\n",
    "    print(\"{: <5} | {: <5} | {: <5} \".format(i, ed[i], m[i]))\n",
    "    "
   ]
  },
  {
   "cell_type": "code",
   "execution_count": null,
   "metadata": {},
   "outputs": [],
   "source": []
  }
 ],
 "metadata": {
  "kernelspec": {
   "display_name": "Python 3",
   "language": "python",
   "name": "python3"
  },
  "language_info": {
   "codemirror_mode": {
    "name": "ipython",
    "version": 3
   },
   "file_extension": ".py",
   "mimetype": "text/x-python",
   "name": "python",
   "nbconvert_exporter": "python",
   "pygments_lexer": "ipython3",
   "version": "3.7.3"
  }
 },
 "nbformat": 4,
 "nbformat_minor": 2
}
